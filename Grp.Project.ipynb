{
 "cells": [
  {
   "cell_type": "code",
   "execution_count": 1,
   "id": "4751ca53",
   "metadata": {},
   "outputs": [
    {
     "data": {
      "text/html": [
       "<div>\n",
       "<style scoped>\n",
       "    .dataframe tbody tr th:only-of-type {\n",
       "        vertical-align: middle;\n",
       "    }\n",
       "\n",
       "    .dataframe tbody tr th {\n",
       "        vertical-align: top;\n",
       "    }\n",
       "\n",
       "    .dataframe thead th {\n",
       "        text-align: right;\n",
       "    }\n",
       "</style>\n",
       "<table border=\"1\" class=\"dataframe\">\n",
       "  <thead>\n",
       "    <tr style=\"text-align: right;\">\n",
       "      <th></th>\n",
       "      <th>caseId</th>\n",
       "      <th>docketId</th>\n",
       "      <th>caseIssuesId</th>\n",
       "      <th>voteId</th>\n",
       "      <th>dateDecision</th>\n",
       "      <th>decisionType</th>\n",
       "      <th>usCite</th>\n",
       "      <th>sctCite</th>\n",
       "      <th>ledCite</th>\n",
       "      <th>lexisCite</th>\n",
       "      <th>...</th>\n",
       "      <th>authorityDecision1</th>\n",
       "      <th>authorityDecision2</th>\n",
       "      <th>lawType</th>\n",
       "      <th>lawSupp</th>\n",
       "      <th>lawMinor</th>\n",
       "      <th>majOpinWriter</th>\n",
       "      <th>majOpinAssigner</th>\n",
       "      <th>splitVote</th>\n",
       "      <th>majVotes</th>\n",
       "      <th>minVotes</th>\n",
       "    </tr>\n",
       "  </thead>\n",
       "  <tbody>\n",
       "    <tr>\n",
       "      <th>0</th>\n",
       "      <td>1946-001</td>\n",
       "      <td>1946-001-01</td>\n",
       "      <td>1946-001-01-01</td>\n",
       "      <td>1946-001-01-01-01</td>\n",
       "      <td>1946-11-18</td>\n",
       "      <td>1</td>\n",
       "      <td>329 U.S. 1</td>\n",
       "      <td>67 S. Ct. 6</td>\n",
       "      <td>91 L. Ed. 3</td>\n",
       "      <td>1946 U.S. LEXIS 1724</td>\n",
       "      <td>...</td>\n",
       "      <td>4.0</td>\n",
       "      <td>NaN</td>\n",
       "      <td>6.0</td>\n",
       "      <td>600.0</td>\n",
       "      <td>35 U.S.C. § 33</td>\n",
       "      <td>78.0</td>\n",
       "      <td>78.0</td>\n",
       "      <td>1</td>\n",
       "      <td>8</td>\n",
       "      <td>1</td>\n",
       "    </tr>\n",
       "    <tr>\n",
       "      <th>1</th>\n",
       "      <td>1946-002</td>\n",
       "      <td>1946-002-01</td>\n",
       "      <td>1946-002-01-01</td>\n",
       "      <td>1946-002-01-01-01</td>\n",
       "      <td>1946-11-18</td>\n",
       "      <td>1</td>\n",
       "      <td>329 U.S. 14</td>\n",
       "      <td>67 S. Ct. 13</td>\n",
       "      <td>91 L. Ed. 12</td>\n",
       "      <td>1946 U.S. LEXIS 1725</td>\n",
       "      <td>...</td>\n",
       "      <td>4.0</td>\n",
       "      <td>NaN</td>\n",
       "      <td>6.0</td>\n",
       "      <td>600.0</td>\n",
       "      <td>18 U.S.C. § 398</td>\n",
       "      <td>81.0</td>\n",
       "      <td>87.0</td>\n",
       "      <td>1</td>\n",
       "      <td>6</td>\n",
       "      <td>3</td>\n",
       "    </tr>\n",
       "    <tr>\n",
       "      <th>2</th>\n",
       "      <td>1946-002</td>\n",
       "      <td>1946-002-02</td>\n",
       "      <td>1946-002-02-01</td>\n",
       "      <td>1946-002-02-01-01</td>\n",
       "      <td>1946-11-18</td>\n",
       "      <td>1</td>\n",
       "      <td>329 U.S. 14</td>\n",
       "      <td>67 S. Ct. 13</td>\n",
       "      <td>91 L. Ed. 12</td>\n",
       "      <td>1946 U.S. LEXIS 1725</td>\n",
       "      <td>...</td>\n",
       "      <td>4.0</td>\n",
       "      <td>NaN</td>\n",
       "      <td>6.0</td>\n",
       "      <td>600.0</td>\n",
       "      <td>18 U.S.C. § 398</td>\n",
       "      <td>81.0</td>\n",
       "      <td>87.0</td>\n",
       "      <td>1</td>\n",
       "      <td>6</td>\n",
       "      <td>3</td>\n",
       "    </tr>\n",
       "    <tr>\n",
       "      <th>3</th>\n",
       "      <td>1946-002</td>\n",
       "      <td>1946-002-03</td>\n",
       "      <td>1946-002-03-01</td>\n",
       "      <td>1946-002-03-01-01</td>\n",
       "      <td>1946-11-18</td>\n",
       "      <td>1</td>\n",
       "      <td>329 U.S. 14</td>\n",
       "      <td>67 S. Ct. 13</td>\n",
       "      <td>91 L. Ed. 12</td>\n",
       "      <td>1946 U.S. LEXIS 1725</td>\n",
       "      <td>...</td>\n",
       "      <td>4.0</td>\n",
       "      <td>NaN</td>\n",
       "      <td>6.0</td>\n",
       "      <td>600.0</td>\n",
       "      <td>18 U.S.C. § 398</td>\n",
       "      <td>81.0</td>\n",
       "      <td>87.0</td>\n",
       "      <td>1</td>\n",
       "      <td>6</td>\n",
       "      <td>3</td>\n",
       "    </tr>\n",
       "    <tr>\n",
       "      <th>4</th>\n",
       "      <td>1946-002</td>\n",
       "      <td>1946-002-04</td>\n",
       "      <td>1946-002-04-01</td>\n",
       "      <td>1946-002-04-01-01</td>\n",
       "      <td>1946-11-18</td>\n",
       "      <td>1</td>\n",
       "      <td>329 U.S. 14</td>\n",
       "      <td>67 S. Ct. 13</td>\n",
       "      <td>91 L. Ed. 12</td>\n",
       "      <td>1946 U.S. LEXIS 1725</td>\n",
       "      <td>...</td>\n",
       "      <td>4.0</td>\n",
       "      <td>NaN</td>\n",
       "      <td>6.0</td>\n",
       "      <td>600.0</td>\n",
       "      <td>18 U.S.C. § 398</td>\n",
       "      <td>81.0</td>\n",
       "      <td>87.0</td>\n",
       "      <td>1</td>\n",
       "      <td>6</td>\n",
       "      <td>3</td>\n",
       "    </tr>\n",
       "  </tbody>\n",
       "</table>\n",
       "<p>5 rows × 53 columns</p>\n",
       "</div>"
      ],
      "text/plain": [
       "     caseId     docketId    caseIssuesId             voteId dateDecision  \\\n",
       "0  1946-001  1946-001-01  1946-001-01-01  1946-001-01-01-01   1946-11-18   \n",
       "1  1946-002  1946-002-01  1946-002-01-01  1946-002-01-01-01   1946-11-18   \n",
       "2  1946-002  1946-002-02  1946-002-02-01  1946-002-02-01-01   1946-11-18   \n",
       "3  1946-002  1946-002-03  1946-002-03-01  1946-002-03-01-01   1946-11-18   \n",
       "4  1946-002  1946-002-04  1946-002-04-01  1946-002-04-01-01   1946-11-18   \n",
       "\n",
       "   decisionType       usCite       sctCite       ledCite  \\\n",
       "0             1   329 U.S. 1   67 S. Ct. 6   91 L. Ed. 3   \n",
       "1             1  329 U.S. 14  67 S. Ct. 13  91 L. Ed. 12   \n",
       "2             1  329 U.S. 14  67 S. Ct. 13  91 L. Ed. 12   \n",
       "3             1  329 U.S. 14  67 S. Ct. 13  91 L. Ed. 12   \n",
       "4             1  329 U.S. 14  67 S. Ct. 13  91 L. Ed. 12   \n",
       "\n",
       "              lexisCite  ...  authorityDecision1  authorityDecision2 lawType  \\\n",
       "0  1946 U.S. LEXIS 1724  ...                 4.0                 NaN     6.0   \n",
       "1  1946 U.S. LEXIS 1725  ...                 4.0                 NaN     6.0   \n",
       "2  1946 U.S. LEXIS 1725  ...                 4.0                 NaN     6.0   \n",
       "3  1946 U.S. LEXIS 1725  ...                 4.0                 NaN     6.0   \n",
       "4  1946 U.S. LEXIS 1725  ...                 4.0                 NaN     6.0   \n",
       "\n",
       "  lawSupp         lawMinor majOpinWriter majOpinAssigner  splitVote  majVotes  \\\n",
       "0   600.0   35 U.S.C. § 33          78.0            78.0          1         8   \n",
       "1   600.0  18 U.S.C. § 398          81.0            87.0          1         6   \n",
       "2   600.0  18 U.S.C. § 398          81.0            87.0          1         6   \n",
       "3   600.0  18 U.S.C. § 398          81.0            87.0          1         6   \n",
       "4   600.0  18 U.S.C. § 398          81.0            87.0          1         6   \n",
       "\n",
       "   minVotes  \n",
       "0         1  \n",
       "1         3  \n",
       "2         3  \n",
       "3         3  \n",
       "4         3  \n",
       "\n",
       "[5 rows x 53 columns]"
      ]
     },
     "execution_count": 1,
     "metadata": {},
     "output_type": "execute_result"
    }
   ],
   "source": [
    "import pandas as pd\n",
    "import matplotlib\n",
    "import matplotlib.pyplot as plt\n",
    "import math\n",
    "import numpy as np\n",
    "file = 'SCOTUS-RULINGS.dta'\n",
    "df = pd.read_stata(file, convert_categoricals = False)\n",
    "df.head()"
   ]
  },
  {
   "cell_type": "code",
   "execution_count": 2,
   "id": "c6f1bc4c",
   "metadata": {},
   "outputs": [
    {
     "data": {
      "text/html": [
       "<div>\n",
       "<style scoped>\n",
       "    .dataframe tbody tr th:only-of-type {\n",
       "        vertical-align: middle;\n",
       "    }\n",
       "\n",
       "    .dataframe tbody tr th {\n",
       "        vertical-align: top;\n",
       "    }\n",
       "\n",
       "    .dataframe thead th {\n",
       "        text-align: right;\n",
       "    }\n",
       "</style>\n",
       "<table border=\"1\" class=\"dataframe\">\n",
       "  <thead>\n",
       "    <tr style=\"text-align: right;\">\n",
       "      <th></th>\n",
       "      <th>caseId</th>\n",
       "      <th>year</th>\n",
       "    </tr>\n",
       "  </thead>\n",
       "  <tbody>\n",
       "    <tr>\n",
       "      <th>0</th>\n",
       "      <td>1946-001</td>\n",
       "      <td>1946</td>\n",
       "    </tr>\n",
       "    <tr>\n",
       "      <th>1</th>\n",
       "      <td>1946-002</td>\n",
       "      <td>1946</td>\n",
       "    </tr>\n",
       "    <tr>\n",
       "      <th>2</th>\n",
       "      <td>1946-002</td>\n",
       "      <td>1946</td>\n",
       "    </tr>\n",
       "    <tr>\n",
       "      <th>3</th>\n",
       "      <td>1946-002</td>\n",
       "      <td>1946</td>\n",
       "    </tr>\n",
       "    <tr>\n",
       "      <th>4</th>\n",
       "      <td>1946-002</td>\n",
       "      <td>1946</td>\n",
       "    </tr>\n",
       "  </tbody>\n",
       "</table>\n",
       "</div>"
      ],
      "text/plain": [
       "     caseId  year\n",
       "0  1946-001  1946\n",
       "1  1946-002  1946\n",
       "2  1946-002  1946\n",
       "3  1946-002  1946\n",
       "4  1946-002  1946"
      ]
     },
     "execution_count": 2,
     "metadata": {},
     "output_type": "execute_result"
    }
   ],
   "source": [
    "date_col = 'caseId'\n",
    "df['year'] = df[date_col].str[:4]\n",
    "df[[date_col,'year']].head()"
   ]
  },
  {
   "cell_type": "code",
   "execution_count": 46,
   "id": "f10445cb",
   "metadata": {},
   "outputs": [
    {
     "name": "stdout",
     "output_type": "stream",
     "text": [
      "2010 2010\n"
     ]
    }
   ],
   "source": [
    "df['year'] = pd.to_numeric(df['year'])\n",
    "after_50_df = df[df['year'] >= 2010]\n",
    "after_50_before_60_df = after_50_df[after_50_df['year']<2011]\n",
    "min_year = after_50_before_60_df['year'].min()\n",
    "max_year = after_50_before_60_df['year'].max()\n",
    "print(min_year, max_year)"
   ]
  },
  {
   "cell_type": "code",
   "execution_count": 47,
   "id": "f2e5e31e",
   "metadata": {},
   "outputs": [
    {
     "name": "stdout",
     "output_type": "stream",
     "text": [
      "['caseId', 'docketId', 'caseIssuesId', 'voteId', 'dateDecision', 'decisionType', 'usCite', 'sctCite', 'ledCite', 'lexisCite', 'term', 'naturalCourt', 'chief', 'docket', 'caseName', 'dateArgument', 'dateRearg', 'petitioner', 'petitionerState', 'respondent', 'respondentState', 'jurisdiction', 'adminAction', 'adminActionState', 'threeJudgeFdc', 'caseOrigin', 'caseOriginState', 'caseSource', 'caseSourceState', 'lcDisagreement', 'certReason', 'lcDisposition', 'lcDispositionDirection', 'declarationUncon', 'caseDisposition', 'caseDispositionUnusual', 'partyWinning', 'precedentAlteration', 'voteUnclear', 'issue', 'issueArea', 'decisionDirection', 'decisionDirectionDissent', 'authorityDecision1', 'authorityDecision2', 'lawType', 'lawSupp', 'lawMinor', 'majOpinWriter', 'majOpinAssigner', 'splitVote', 'majVotes', 'minVotes', 'year']\n",
      "109\n",
      "54\n"
     ]
    }
   ],
   "source": [
    "print(list(after_50_before_60_df))\n",
    "print(len(after_50_before_60_df))\n",
    "print(len(list(after_50_before_60_df)))"
   ]
  },
  {
   "cell_type": "code",
   "execution_count": 48,
   "id": "626fb79f",
   "metadata": {},
   "outputs": [
    {
     "name": "stdout",
     "output_type": "stream",
     "text": [
      "   lcDispositionDirection  freq\n",
      "1                     1.0    52\n",
      "0                     2.0    56\n"
     ]
    }
   ],
   "source": [
    "col = 'lcDispositionDirection'\n",
    "col_name = 'lcDispositionDirection'\n",
    "freq = after_50_before_60_df[col].value_counts().rename_axis(col_name).reset_index(name='freq')\n",
    "freq = freq.sort_values(by = col_name)\n",
    "print(freq)"
   ]
  },
  {
   "cell_type": "code",
   "execution_count": 17,
   "id": "5f26ba6c",
   "metadata": {},
   "outputs": [
    {
     "data": {
      "image/png": "[encoded data removed]",
      "text/plain": [
       "<Figure size 432x288 with 1 Axes>"
      ]
     },
     "metadata": {
      "needs_background": "light"
     },
     "output_type": "display_data"
    }
   ],
   "source": [
    "ax = freq.plot.barh(x=col_name, y='freq')"
   ]
  },
  {
   "cell_type": "code",
   "execution_count": 50,
   "id": "376de036",
   "metadata": {},
   "outputs": [
    {
     "data": {
      "image/png": "[encoded data removed]",
      "text/plain": [
       "<Figure size 720x360 with 1 Axes>"
      ]
     },
     "metadata": {
      "needs_background": "light"
     },
     "output_type": "display_data"
    }
   ],
   "source": [
    "data = {'50s':65, '60s':73, '70s':47, '80s':40, '90s':55, '00s':40, '10s':50}\n",
    "courses = list(data.keys())\n",
    "values = list(data.values())\n",
    "  \n",
    "fig = plt.figure(figsize = (10, 5))\n",
    " \n",
    "plt.bar(courses, values, color ='maroon',\n",
    "        width = 0.4)\n",
    " \n",
    "plt.xlabel(\"decade\")\n",
    "plt.ylabel(\"percentage of supreme court rulings considered conservative\")\n",
    "plt.show()"
   ]
  },
  {
   "cell_type": "code",
   "execution_count": 55,
   "id": "b65636ef",
   "metadata": {},
   "outputs": [
    {
     "data": {
      "image/png": "[encoded data removed]",
      "text/plain": [
       "<Figure size 720x360 with 1 Axes>"
      ]
     },
     "metadata": {
      "needs_background": "light"
     },
     "output_type": "display_data"
    }
   ],
   "source": [
    "data = {'2011': 63, '2012': 51, '2013': 53.6, '2014': 48, '2015': 56, '2016': 53, '2017': 42, '2018': 38, '2019': 57, '2020': 33}\n",
    "courses = list(data.keys())\n",
    "values = list(data.values())\n",
    "  \n",
    "fig = plt.figure(figsize = (10, 5))\n",
    " \n",
    "plt.bar(courses, values, color ='maroon',\n",
    "        width = 0.4)\n",
    " \n",
    "plt.xlabel(\"decade\")\n",
    "plt.ylabel(\"percentage of supreme court rulings considered conservative\")\n",
    "plt.show()"
   ]
  },
  {
   "cell_type": "code",
   "execution_count": 93,
   "id": "9087d244",
   "metadata": {},
   "outputs": [
    {
     "name": "stdout",
     "output_type": "stream",
     "text": [
      "   Year  Unemployment Rate\n",
      "0  2011               63.0\n",
      "1  2012               51.0\n",
      "2  2013               53.6\n",
      "3  2014               48.0\n",
      "4  2015               56.0\n",
      "5  2016               53.0\n",
      "6  2017               42.0\n",
      "7  2018               38.0\n",
      "8  2019               57.0\n",
      "9  2020               33.0\n"
     ]
    },
    {
     "data": {
      "image/png": "[encoded data removed]",
      "text/plain": [
       "<Figure size 432x288 with 1 Axes>"
      ]
     },
     "metadata": {
      "needs_background": "light"
     },
     "output_type": "display_data"
    },
    {
     "data": {
      "image/png": "[encoded data removed]",
      "text/plain": [
       "<Figure size 432x288 with 1 Axes>"
      ]
     },
     "metadata": {
      "needs_background": "light"
     },
     "output_type": "display_data"
    },
    {
     "name": "stdout",
     "output_type": "stream",
     "text": [
      "The parameters of the curve: [-1.98181818e+00  4.04381455e+03]\n"
     ]
    },
    {
     "data": {
      "text/plain": [
       "[<matplotlib.lines.Line2D at 0x7fa29ccb0f40>]"
      ]
     },
     "execution_count": 93,
     "metadata": {},
     "output_type": "execute_result"
    },
    {
     "data": {
      "image/png": "[encoded data removed]",
      "text/plain": [
       "<Figure size 432x288 with 1 Axes>"
      ]
     },
     "metadata": {
      "needs_background": "light"
     },
     "output_type": "display_data"
    }
   ],
   "source": [
    "Year = [2011, 2012, 2013, 2014, 2015, 2016, 2017, 2018, 2019, 2020]\n",
    "Unemployment_Rate = [63, 51, 53.6, 48, 56, 53, 42, 38, 57, 33]\n",
    "df = pd.DataFrame(list(zip(Year, Unemployment_Rate)),\n",
    "               columns =['Year', 'Unemployment Rate'])\n",
    "print(df)\n",
    "df.plot(kind='scatter', y='Unemployment Rate', x='Year')\n",
    "df.plot(kind='line', y='Unemployment Rate', x='Year')\n",
    "plt.xlabel('Year')\n",
    "plt.ylabel('Unemployment Rate')\n",
    "plt.show()\n",
    "X = df['Year']\n",
    "y = df['Unemployment Rate']\n",
    "\n",
    "\n",
    "theta = np.polyfit(X, y, 1)\n",
    "\n",
    "print(f'The parameters of the curve: {theta}')\n",
    "\n",
    "\n",
    "y_line=theta[1] + theta[0] * X\n",
    "\n",
    "plt.scatter(X, y)\n",
    "plt.plot(X, y_line, 'r')"
   ]
  },
  {
   "cell_type": "code",
   "execution_count": 94,
   "id": "74de814f",
   "metadata": {},
   "outputs": [
    {
     "name": "stdout",
     "output_type": "stream",
     "text": [
      "just changed the dates for the frequency. Manually imported the percentages after I calculated it from the frequency.\n"
     ]
    }
   ],
   "source": [
    "print ('just changed the dates for the frequency. Manually imported the percentages after I calculated it from the frequency.')"
   ]
  },
  {
   "cell_type": "code",
   "execution_count": null,
   "id": "67e93e52",
   "metadata": {},
   "outputs": [],
   "source": []
  }
 ],
 "metadata": {
  "kernelspec": {
   "display_name": "Python 3 (ipykernel)",
   "language": "python",
   "name": "python3"
  },
  "language_info": {
   "codemirror_mode": {
    "name": "ipython",
    "version": 3
   },
   "file_extension": ".py",
   "mimetype": "text/x-python",
   "name": "python",
   "nbconvert_exporter": "python",
   "pygments_lexer": "ipython3",
   "version": "3.9.12"
  }
 },
 "nbformat": 4,
 "nbformat_minor": 5
}
